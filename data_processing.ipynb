{
 "cells": [
  {
   "cell_type": "markdown",
   "id": "2f840230",
   "metadata": {},
   "source": [
    "# Importing required modules"
   ]
  },
  {
   "cell_type": "code",
   "execution_count": 2,
   "id": "916000c4",
   "metadata": {},
   "outputs": [],
   "source": [
    "import pandas as pd\n",
    "import numpy as np"
   ]
  },
  {
   "cell_type": "markdown",
   "id": "70bc7dbe",
   "metadata": {},
   "source": [
    "# Reading the CSV files"
   ]
  },
  {
   "cell_type": "code",
   "execution_count": 6,
   "id": "e8035185",
   "metadata": {},
   "outputs": [],
   "source": [
    "df_2019 = pd.read_csv(\"spreadsheets/2019.csv\")\n",
    "df_2020 = pd.read_csv(\"spreadsheets/2020.csv\")\n",
    "df_2021 = pd.read_csv(\"spreadsheets/2021.csv\")\n",
    "df_2023 = pd.read_csv(\"spreadsheets/2023.csv\")"
   ]
  },
  {
   "cell_type": "markdown",
   "id": "ca9f74a9",
   "metadata": {},
   "source": [
    "# Creating subsets of dataframes\n",
    "We want\n",
    "* Protein name (accession number in some datasets)\n",
    "* Gene name \n",
    "* Region of glutothyination\n",
    "* Specific cysteine (marked by C) and its index"
   ]
  },
  {
   "cell_type": "markdown",
   "id": "af726796",
   "metadata": {},
   "source": []
  },
  {
   "cell_type": "code",
   "execution_count": null,
   "id": "cc4949ef",
   "metadata": {},
   "outputs": [],
   "source": []
  }
 ],
 "metadata": {
  "kernelspec": {
   "display_name": ".venv",
   "language": "python",
   "name": "python3"
  },
  "language_info": {
   "codemirror_mode": {
    "name": "ipython",
    "version": 3
   },
   "file_extension": ".py",
   "mimetype": "text/x-python",
   "name": "python",
   "nbconvert_exporter": "python",
   "pygments_lexer": "ipython3",
   "version": "3.11.12"
  }
 },
 "nbformat": 4,
 "nbformat_minor": 5
}
